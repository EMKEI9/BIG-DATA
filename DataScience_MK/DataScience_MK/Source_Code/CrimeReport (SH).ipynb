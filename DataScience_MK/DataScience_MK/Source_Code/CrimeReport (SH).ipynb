{
 "cells": [
  {
   "cell_type": "code",
   "execution_count": 14,
   "metadata": {
    "collapsed": true
   },
   "outputs": [],
   "source": [
    "import pandas as pd\n",
    "import numpy as np\n",
    "import matplotlib.pyplot as plt"
   ]
  },
  {
   "cell_type": "code",
   "execution_count": 15,
   "metadata": {
    "scrolled": false
   },
   "outputs": [
    {
     "data": {
      "text/html": [
       "<div>\n",
       "<style scoped>\n",
       "    .dataframe tbody tr th:only-of-type {\n",
       "        vertical-align: middle;\n",
       "    }\n",
       "\n",
       "    .dataframe tbody tr th {\n",
       "        vertical-align: top;\n",
       "    }\n",
       "\n",
       "    .dataframe thead th {\n",
       "        text-align: right;\n",
       "    }\n",
       "</style>\n",
       "<table border=\"1\" class=\"dataframe\">\n",
       "  <thead>\n",
       "    <tr style=\"text-align: right;\">\n",
       "      <th></th>\n",
       "      <th>기간</th>\n",
       "      <th>구분</th>\n",
       "      <th>계</th>\n",
       "      <th>아파트 연립다세대</th>\n",
       "      <th>단독주택</th>\n",
       "      <th>노상</th>\n",
       "      <th>상점</th>\n",
       "      <th>숙박업소목욕탕</th>\n",
       "      <th>유흥접객업소</th>\n",
       "      <th>사무실</th>\n",
       "      <th>역대합실</th>\n",
       "      <th>교통수단</th>\n",
       "      <th>유원지</th>\n",
       "      <th>학교</th>\n",
       "      <th>금융기관</th>\n",
       "      <th>기타</th>\n",
       "    </tr>\n",
       "  </thead>\n",
       "  <tbody>\n",
       "    <tr>\n",
       "      <th>0</th>\n",
       "      <td>2017</td>\n",
       "      <td>계</td>\n",
       "      <td>4523</td>\n",
       "      <td>5092</td>\n",
       "      <td>32063</td>\n",
       "      <td>5047</td>\n",
       "      <td>1437</td>\n",
       "      <td>5077</td>\n",
       "      <td>1772</td>\n",
       "      <td>908</td>\n",
       "      <td>2359</td>\n",
       "      <td>754</td>\n",
       "      <td>518</td>\n",
       "      <td>1024</td>\n",
       "      <td>47261</td>\n",
       "      <td>0</td>\n",
       "    </tr>\n",
       "    <tr>\n",
       "      <th>1</th>\n",
       "      <td>2017</td>\n",
       "      <td>살인</td>\n",
       "      <td>142</td>\n",
       "      <td>21</td>\n",
       "      <td>25</td>\n",
       "      <td>27</td>\n",
       "      <td>1</td>\n",
       "      <td>5</td>\n",
       "      <td>10</td>\n",
       "      <td>5</td>\n",
       "      <td>0</td>\n",
       "      <td>1</td>\n",
       "      <td>1</td>\n",
       "      <td>0</td>\n",
       "      <td>0</td>\n",
       "      <td>46</td>\n",
       "    </tr>\n",
       "    <tr>\n",
       "      <th>2</th>\n",
       "      <td>2017</td>\n",
       "      <td>강도</td>\n",
       "      <td>169</td>\n",
       "      <td>20</td>\n",
       "      <td>11</td>\n",
       "      <td>43</td>\n",
       "      <td>22</td>\n",
       "      <td>8</td>\n",
       "      <td>5</td>\n",
       "      <td>5</td>\n",
       "      <td>1</td>\n",
       "      <td>0</td>\n",
       "      <td>1</td>\n",
       "      <td>0</td>\n",
       "      <td>3</td>\n",
       "      <td>50</td>\n",
       "    </tr>\n",
       "    <tr>\n",
       "      <th>3</th>\n",
       "      <td>2017</td>\n",
       "      <td>강간강제추행</td>\n",
       "      <td>6963</td>\n",
       "      <td>319</td>\n",
       "      <td>413</td>\n",
       "      <td>1061</td>\n",
       "      <td>116</td>\n",
       "      <td>408</td>\n",
       "      <td>495</td>\n",
       "      <td>130</td>\n",
       "      <td>242</td>\n",
       "      <td>1105</td>\n",
       "      <td>51</td>\n",
       "      <td>49</td>\n",
       "      <td>1</td>\n",
       "      <td>2573</td>\n",
       "    </tr>\n",
       "    <tr>\n",
       "      <th>4</th>\n",
       "      <td>2017</td>\n",
       "      <td>절도</td>\n",
       "      <td>41162</td>\n",
       "      <td>1209</td>\n",
       "      <td>1340</td>\n",
       "      <td>8255</td>\n",
       "      <td>4119</td>\n",
       "      <td>670</td>\n",
       "      <td>1809</td>\n",
       "      <td>564</td>\n",
       "      <td>335</td>\n",
       "      <td>744</td>\n",
       "      <td>282</td>\n",
       "      <td>247</td>\n",
       "      <td>990</td>\n",
       "      <td>20598</td>\n",
       "    </tr>\n",
       "  </tbody>\n",
       "</table>\n",
       "</div>"
      ],
      "text/plain": [
       "     기간      구분      계  아파트 연립다세대   단독주택    노상    상점  숙박업소목욕탕  유흥접객업소  사무실  \\\n",
       "0  2017       계   4523       5092  32063  5047  1437     5077    1772  908   \n",
       "1  2017      살인    142         21     25    27     1        5      10    5   \n",
       "2  2017      강도    169         20     11    43    22        8       5    5   \n",
       "3  2017  강간강제추행   6963        319    413  1061   116      408     495  130   \n",
       "4  2017      절도  41162       1209   1340  8255  4119      670    1809  564   \n",
       "\n",
       "   역대합실  교통수단  유원지    학교   금융기관     기타  \n",
       "0  2359   754  518  1024  47261      0  \n",
       "1     0     1    1     0      0     46  \n",
       "2     1     0    1     0      3     50  \n",
       "3   242  1105   51    49      1   2573  \n",
       "4   335   744  282   247    990  20598  "
      ]
     },
     "execution_count": 15,
     "metadata": {},
     "output_type": "execute_result"
    }
   ],
   "source": [
    "crime_report = pd.read_excel('C:/Users/Administrator/Desktop/coding/DataScience/data/report..xlsx', encoding='utf-8')\n",
    "crime_report.head()"
   ]
  },
  {
   "cell_type": "code",
   "execution_count": 17,
   "metadata": {},
   "outputs": [
    {
     "data": {
      "text/html": [
       "<div>\n",
       "<style scoped>\n",
       "    .dataframe tbody tr th:only-of-type {\n",
       "        vertical-align: middle;\n",
       "    }\n",
       "\n",
       "    .dataframe tbody tr th {\n",
       "        vertical-align: top;\n",
       "    }\n",
       "\n",
       "    .dataframe thead th {\n",
       "        text-align: right;\n",
       "    }\n",
       "</style>\n",
       "<table border=\"1\" class=\"dataframe\">\n",
       "  <thead>\n",
       "    <tr style=\"text-align: right;\">\n",
       "      <th></th>\n",
       "      <th>구분</th>\n",
       "      <th>역대합실</th>\n",
       "    </tr>\n",
       "  </thead>\n",
       "  <tbody>\n",
       "    <tr>\n",
       "      <th>1</th>\n",
       "      <td>살인</td>\n",
       "      <td>0</td>\n",
       "    </tr>\n",
       "  </tbody>\n",
       "</table>\n",
       "</div>"
      ],
      "text/plain": [
       "   구분  역대합실\n",
       "1  살인     0"
      ]
     },
     "execution_count": 17,
     "metadata": {},
     "output_type": "execute_result"
    }
   ],
   "source": [
    "crime_report.iloc[[1],[1,10]]"
   ]
  },
  {
   "cell_type": "code",
   "execution_count": 22,
   "metadata": {},
   "outputs": [
    {
     "data": {
      "text/html": [
       "<div>\n",
       "<style scoped>\n",
       "    .dataframe tbody tr th:only-of-type {\n",
       "        vertical-align: middle;\n",
       "    }\n",
       "\n",
       "    .dataframe tbody tr th {\n",
       "        vertical-align: top;\n",
       "    }\n",
       "\n",
       "    .dataframe thead th {\n",
       "        text-align: right;\n",
       "    }\n",
       "</style>\n",
       "<table border=\"1\" class=\"dataframe\">\n",
       "  <thead>\n",
       "    <tr style=\"text-align: right;\">\n",
       "      <th></th>\n",
       "      <th>기간</th>\n",
       "      <th>범죄구분</th>\n",
       "      <th>5대범죄</th>\n",
       "      <th>아파트 연립다세대</th>\n",
       "      <th>단독주택</th>\n",
       "      <th>노상</th>\n",
       "      <th>상점</th>\n",
       "      <th>숙박업소목욕탕</th>\n",
       "      <th>유흥접객업소</th>\n",
       "      <th>사무실</th>\n",
       "      <th>역대합실</th>\n",
       "      <th>교통수단</th>\n",
       "      <th>유원지</th>\n",
       "      <th>학교</th>\n",
       "      <th>금융기관</th>\n",
       "      <th>기타</th>\n",
       "    </tr>\n",
       "  </thead>\n",
       "  <tbody>\n",
       "    <tr>\n",
       "      <th>0</th>\n",
       "      <td>2017</td>\n",
       "      <td>계</td>\n",
       "      <td>4523</td>\n",
       "      <td>5092</td>\n",
       "      <td>32063</td>\n",
       "      <td>5047</td>\n",
       "      <td>1437</td>\n",
       "      <td>5077</td>\n",
       "      <td>1772</td>\n",
       "      <td>908</td>\n",
       "      <td>2359</td>\n",
       "      <td>754</td>\n",
       "      <td>518</td>\n",
       "      <td>1024</td>\n",
       "      <td>47261</td>\n",
       "      <td>0</td>\n",
       "    </tr>\n",
       "    <tr>\n",
       "      <th>1</th>\n",
       "      <td>2017</td>\n",
       "      <td>살인</td>\n",
       "      <td>142</td>\n",
       "      <td>21</td>\n",
       "      <td>25</td>\n",
       "      <td>27</td>\n",
       "      <td>1</td>\n",
       "      <td>5</td>\n",
       "      <td>10</td>\n",
       "      <td>5</td>\n",
       "      <td>0</td>\n",
       "      <td>1</td>\n",
       "      <td>1</td>\n",
       "      <td>0</td>\n",
       "      <td>0</td>\n",
       "      <td>46</td>\n",
       "    </tr>\n",
       "    <tr>\n",
       "      <th>2</th>\n",
       "      <td>2017</td>\n",
       "      <td>강도</td>\n",
       "      <td>169</td>\n",
       "      <td>20</td>\n",
       "      <td>11</td>\n",
       "      <td>43</td>\n",
       "      <td>22</td>\n",
       "      <td>8</td>\n",
       "      <td>5</td>\n",
       "      <td>5</td>\n",
       "      <td>1</td>\n",
       "      <td>0</td>\n",
       "      <td>1</td>\n",
       "      <td>0</td>\n",
       "      <td>3</td>\n",
       "      <td>50</td>\n",
       "    </tr>\n",
       "    <tr>\n",
       "      <th>3</th>\n",
       "      <td>2017</td>\n",
       "      <td>강간강제추행</td>\n",
       "      <td>6963</td>\n",
       "      <td>319</td>\n",
       "      <td>413</td>\n",
       "      <td>1061</td>\n",
       "      <td>116</td>\n",
       "      <td>408</td>\n",
       "      <td>495</td>\n",
       "      <td>130</td>\n",
       "      <td>242</td>\n",
       "      <td>1105</td>\n",
       "      <td>51</td>\n",
       "      <td>49</td>\n",
       "      <td>1</td>\n",
       "      <td>2573</td>\n",
       "    </tr>\n",
       "    <tr>\n",
       "      <th>4</th>\n",
       "      <td>2017</td>\n",
       "      <td>절도</td>\n",
       "      <td>41162</td>\n",
       "      <td>1209</td>\n",
       "      <td>1340</td>\n",
       "      <td>8255</td>\n",
       "      <td>4119</td>\n",
       "      <td>670</td>\n",
       "      <td>1809</td>\n",
       "      <td>564</td>\n",
       "      <td>335</td>\n",
       "      <td>744</td>\n",
       "      <td>282</td>\n",
       "      <td>247</td>\n",
       "      <td>990</td>\n",
       "      <td>20598</td>\n",
       "    </tr>\n",
       "  </tbody>\n",
       "</table>\n",
       "</div>"
      ],
      "text/plain": [
       "     기간    범죄구분   5대범죄  아파트 연립다세대   단독주택    노상    상점  숙박업소목욕탕  유흥접객업소  사무실  \\\n",
       "0  2017       계   4523       5092  32063  5047  1437     5077    1772  908   \n",
       "1  2017      살인    142         21     25    27     1        5      10    5   \n",
       "2  2017      강도    169         20     11    43    22        8       5    5   \n",
       "3  2017  강간강제추행   6963        319    413  1061   116      408     495  130   \n",
       "4  2017      절도  41162       1209   1340  8255  4119      670    1809  564   \n",
       "\n",
       "   역대합실  교통수단  유원지    학교   금융기관     기타  \n",
       "0  2359   754  518  1024  47261      0  \n",
       "1     0     1    1     0      0     46  \n",
       "2     1     0    1     0      3     50  \n",
       "3   242  1105   51    49      1   2573  \n",
       "4   335   744  282   247    990  20598  "
      ]
     },
     "execution_count": 22,
     "metadata": {},
     "output_type": "execute_result"
    }
   ],
   "source": [
    "crime_report.rename(columns={crime_report.columns[1]:'범죄구분',\n",
    "                            crime_report.columns[2]:'5대범죄'}, inplace=True)\n",
    "crime_report.head()                    "
   ]
  },
  {
   "cell_type": "code",
   "execution_count": 24,
   "metadata": {
    "scrolled": true
   },
   "outputs": [
    {
     "data": {
      "text/plain": [
       "array([[1.        , 0.27347424],\n",
       "       [0.27347424, 1.        ]])"
      ]
     },
     "execution_count": 24,
     "metadata": {},
     "output_type": "execute_result"
    }
   ],
   "source": [
    "np.corrcoef(crime_report['5대범죄'], crime_report['아파트 연립다세대'])"
   ]
  },
  {
   "cell_type": "code",
   "execution_count": 26,
   "metadata": {},
   "outputs": [
    {
     "data": {
      "text/plain": [
       "array([[ 1.        , -0.18444586],\n",
       "       [-0.18444586,  1.        ]])"
      ]
     },
     "execution_count": 26,
     "metadata": {},
     "output_type": "execute_result"
    }
   ],
   "source": [
    "np.corrcoef(crime_report['5대범죄'], crime_report['단독주택'])"
   ]
  },
  {
   "cell_type": "code",
   "execution_count": 25,
   "metadata": {},
   "outputs": [
    {
     "data": {
      "text/plain": [
       "array([[1.        , 0.92933447],\n",
       "       [0.92933447, 1.        ]])"
      ]
     },
     "execution_count": 25,
     "metadata": {},
     "output_type": "execute_result"
    }
   ],
   "source": [
    "np.corrcoef(crime_report['5대범죄'], crime_report['노상'])"
   ]
  },
  {
   "cell_type": "code",
   "execution_count": 27,
   "metadata": {},
   "outputs": [
    {
     "data": {
      "text/plain": [
       "array([[1.        , 0.50925131],\n",
       "       [0.50925131, 1.        ]])"
      ]
     },
     "execution_count": 27,
     "metadata": {},
     "output_type": "execute_result"
    }
   ],
   "source": [
    "np.corrcoef(crime_report['5대범죄'], crime_report['상점'])"
   ]
  },
  {
   "cell_type": "code",
   "execution_count": 28,
   "metadata": {},
   "outputs": [
    {
     "data": {
      "text/plain": [
       "array([[1.        , 0.84756912],\n",
       "       [0.84756912, 1.        ]])"
      ]
     },
     "execution_count": 28,
     "metadata": {},
     "output_type": "execute_result"
    }
   ],
   "source": [
    "np.corrcoef(crime_report['5대범죄'], crime_report['유흥접객업소'])"
   ]
  },
  {
   "cell_type": "code",
   "execution_count": 29,
   "metadata": {},
   "outputs": [
    {
     "data": {
      "text/plain": [
       "array([[1.        , 0.69955086],\n",
       "       [0.69955086, 1.        ]])"
      ]
     },
     "execution_count": 29,
     "metadata": {},
     "output_type": "execute_result"
    }
   ],
   "source": [
    "np.corrcoef(crime_report['5대범죄'], crime_report['사무실'])"
   ]
  },
  {
   "cell_type": "code",
   "execution_count": 30,
   "metadata": {},
   "outputs": [
    {
     "data": {
      "text/plain": [
       "array([[ 1.        , -0.13556873],\n",
       "       [-0.13556873,  1.        ]])"
      ]
     },
     "execution_count": 30,
     "metadata": {},
     "output_type": "execute_result"
    }
   ],
   "source": [
    "np.corrcoef(crime_report['5대범죄'], crime_report['역대합실'])"
   ]
  },
  {
   "cell_type": "code",
   "execution_count": 31,
   "metadata": {},
   "outputs": [
    {
     "data": {
      "text/plain": [
       "array([[1.        , 0.24367999],\n",
       "       [0.24367999, 1.        ]])"
      ]
     },
     "execution_count": 31,
     "metadata": {},
     "output_type": "execute_result"
    }
   ],
   "source": [
    "np.corrcoef(crime_report['5대범죄'], crime_report['교통수단'])"
   ]
  },
  {
   "cell_type": "code",
   "execution_count": 32,
   "metadata": {},
   "outputs": [
    {
     "data": {
      "text/plain": [
       "array([[1.        , 0.53784399],\n",
       "       [0.53784399, 1.        ]])"
      ]
     },
     "execution_count": 32,
     "metadata": {},
     "output_type": "execute_result"
    }
   ],
   "source": [
    "np.corrcoef(crime_report['5대범죄'], crime_report['유원지'])"
   ]
  },
  {
   "cell_type": "code",
   "execution_count": 33,
   "metadata": {},
   "outputs": [
    {
     "data": {
      "text/plain": [
       "array([[ 1.        , -0.01113161],\n",
       "       [-0.01113161,  1.        ]])"
      ]
     },
     "execution_count": 33,
     "metadata": {},
     "output_type": "execute_result"
    }
   ],
   "source": [
    "np.corrcoef(crime_report['5대범죄'], crime_report['학교'])"
   ]
  },
  {
   "cell_type": "code",
   "execution_count": 34,
   "metadata": {},
   "outputs": [
    {
     "data": {
      "text/plain": [
       "array([[ 1.        , -0.26709548],\n",
       "       [-0.26709548,  1.        ]])"
      ]
     },
     "execution_count": 34,
     "metadata": {},
     "output_type": "execute_result"
    }
   ],
   "source": [
    "np.corrcoef(crime_report['5대범죄'], crime_report['금융기관'])"
   ]
  },
  {
   "cell_type": "code",
   "execution_count": null,
   "metadata": {
    "collapsed": true
   },
   "outputs": [],
   "source": []
  }
 ],
 "metadata": {
  "kernelspec": {
   "display_name": "Python 3",
   "language": "python",
   "name": "python3"
  },
  "language_info": {
   "codemirror_mode": {
    "name": "ipython",
    "version": 3
   },
   "file_extension": ".py",
   "mimetype": "text/x-python",
   "name": "python",
   "nbconvert_exporter": "python",
   "pygments_lexer": "ipython3",
   "version": "3.7.0"
  }
 },
 "nbformat": 4,
 "nbformat_minor": 2
}
